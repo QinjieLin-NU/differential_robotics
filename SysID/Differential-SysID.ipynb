{
 "cells": [
  {
   "cell_type": "code",
   "execution_count": 1,
   "id": "weekly-anthropology",
   "metadata": {},
   "outputs": [],
   "source": [
    "import jax.numpy as jnp\n",
    "from jax import grad, jit, vmap\n",
    "from jax import random\n",
    "import jax"
   ]
  },
  {
   "cell_type": "code",
   "execution_count": 3,
   "id": "vocational-privilege",
   "metadata": {},
   "outputs": [],
   "source": [
    "import math\n",
    "import numpy as np\n",
    "from jax import random\n",
    "from jax import grad, jit, vmap\n",
    "\n",
    "tau = 0.05  # seconds between state updates\n",
    "kinematics_integrator = \"euler\"\n",
    "gravity = 10.0\n",
    "@jax.jit\n",
    "def dynamics(state,action,params):\n",
    "    \"\"\"\n",
    "    params[0,1,2]: pole mass, length, cart mass\n",
    "    \"\"\"\n",
    "    x, x_dot, theta, theta_dot = state\n",
    "\n",
    "    force = action \n",
    "\n",
    "    masscart,masspole,length = params\n",
    "    total_mass = masspole + masscart\n",
    "    polemass_length = masspole * length\n",
    "\n",
    "    costheta = jnp.cos(theta)\n",
    "    sintheta = jnp.sin(theta)\n",
    "\n",
    "    temp = (force + polemass_length * theta_dot ** 2 * sintheta) / total_mass\n",
    "    thetaacc = (gravity * sintheta - costheta * temp) / (\n",
    "        length * (4.0 / 3.0 - masspole * costheta ** 2 / total_mass)\n",
    "    )\n",
    "    xacc = temp - polemass_length * thetaacc * costheta / total_mass\n",
    "\n",
    "    if kinematics_integrator == \"euler\":\n",
    "        x = x + tau * x_dot\n",
    "        x_dot = x_dot + tau * xacc\n",
    "        theta = theta + tau * theta_dot\n",
    "        theta_dot = theta_dot + tau * thetaacc\n",
    "    else:  # semi-implicit euler\n",
    "        x_dot = x_dot + tau * xacc\n",
    "        x = x + tau * x_dot\n",
    "        theta_dot = theta_dot + tau * thetaacc\n",
    "        theta = theta + tau * theta_dot\n",
    "\n",
    "    return jnp.reshape(jnp.array([x, x_dot, theta, theta_dot]),(4,))"
   ]
  },
  {
   "cell_type": "code",
   "execution_count": 4,
   "id": "rational-audit",
   "metadata": {},
   "outputs": [],
   "source": [
    "import math\n",
    "import numpy as np\n",
    "from jax import random\n",
    "from jax import grad, jit, vmap\n",
    "\n",
    "@jax.jit\n",
    "def dynamics_PDP(state,action,params):\n",
    "    g = 10.0\n",
    "    dt = 0.05  # seconds between state updates\n",
    "    kinematics_integrator = \"euler\"\n",
    "\n",
    "    \n",
    "    # get state and actions, which is different from gym env\n",
    "    x, q, dx, dq = state\n",
    "    U = action \n",
    "    mc,mp,l = params\n",
    "    \n",
    "    # computer the acceleration\n",
    "    ddx = (U + mp * jnp.sin(q) * (l * dq * dq + g * jnp.cos(q))) / (\n",
    "                mc + mp * jnp.sin(q) * jnp.sin(q))  # acceleration of x\n",
    "    ddq = (-U * jnp.cos(q) - mp * l * dq * dq * jnp.sin(q) * jnp.cos(q) - (\n",
    "                mc + mp) * g * jnp.sin(q)) / (\n",
    "                      l * mc + l * mp * jnp.sin(q) * jnp.sin(q))  # acceleration of theta\n",
    "    \n",
    "    #computer current state\n",
    "    if kinematics_integrator == \"euler\":\n",
    "        x = x + dx * dt\n",
    "        dx = dx + ddx * dt\n",
    "        q = q + dq * dt\n",
    "        dq = dq + ddq * dt\n",
    "    else:\n",
    "        dx = dx + ddx * dt\n",
    "        x = x + dx * dt\n",
    "        dq = dq + ddq * dt\n",
    "        q = q + dq * dt\n",
    "    return jnp.reshape(jnp.array([x, q, dx, dq]),(4,))"
   ]
  },
  {
   "cell_type": "code",
   "execution_count": 5,
   "id": "serious-george",
   "metadata": {},
   "outputs": [],
   "source": [
    "from jax.experimental import loops\n",
    "from jax import ops\n",
    "def loss_fn(params,states,actions,next_states):\n",
    "    with loops.Scope() as s:\n",
    "        s.loss = jnp.zeros((actions.shape[0],4))\n",
    "        s.predicted_states = jnp.zeros((actions.shape[0],4))\n",
    "        for i in s.range(s.predicted_states.shape[0]):\n",
    "            s.predicted_states = ops.index_update(s.predicted_states, i,\n",
    "                                                  dynamics_PDP(states[i],actions[i],params) )\n",
    "        s.loss = s.predicted_states - next_states\n",
    "        return jnp.mean(jnp.square(s.loss))  # mse\n",
    "grad_loss = jax.jacfwd(loss_fn,argnums=0)"
   ]
  },
  {
   "cell_type": "code",
   "execution_count": 25,
   "id": "nasty-tennessee",
   "metadata": {},
   "outputs": [],
   "source": [
    "from jax.experimental import loops\n",
    "from jax import ops\n",
    "def loss_fn_traj(params,states,actions,next_states):\n",
    "    with loops.Scope() as s:\n",
    "        s.loss = jnp.zeros((actions.shape[0],4))\n",
    "        s.predicted_states = jnp.zeros((actions.shape[0],4))\n",
    "        s.predicted_states = ops.index_update(s.predicted_states, 0,\n",
    "                                                  dynamics(states[0],actions[0],params) )\n",
    "        for i in s.range(s.predicted_states.shape[0]-1):\n",
    "            s.predicted_states = ops.index_update(s.predicted_states, i+1,\n",
    "                                                  dynamics_PDP(s.predicted_states[i],actions[i+1],params) )\n",
    "        s.loss = s.predicted_states - next_states\n",
    "        return jnp.mean(jnp.square(s.loss))  # mse\n",
    "grad_loss_traj = jax.jacfwd(loss_fn_traj,argnums=0)\n",
    "hessian_loss_traj =  jax.jacfwd(grad_loss_traj,argnums=0)"
   ]
  },
  {
   "cell_type": "code",
   "execution_count": 7,
   "id": "vulnerable-settlement",
   "metadata": {},
   "outputs": [],
   "source": [
    "import scipy.io as sio\n",
    "load_data = sio.loadmat('/home/qinjielin/RL_Ws/Pontryagin-Differentiable-Programming/Examples/SysID/cartpole/data/cartpole_iodata.mat')\n",
    "data = load_data['cartpole_iodata'][0, 0]"
   ]
  },
  {
   "cell_type": "code",
   "execution_count": 8,
   "id": "combined-result",
   "metadata": {},
   "outputs": [
    {
     "name": "stderr",
     "output_type": "stream",
     "text": [
      "WARNING:absl:No GPU/TPU found, falling back to CPU. (Set TF_CPP_MIN_LOG_LEVEL=0 and rerun for more info.)\n"
     ]
    }
   ],
   "source": [
    "actions_data = data[0]\n",
    "states_data = data[1]\n",
    "true_params = data[2]\n",
    "params = jnp.array([2.0,1.5,2.0])\n",
    "loss_list = []\n",
    "batch_size = 5\n",
    "test_s,test_a,test_sdot = jnp.array(states_data[2][0:-1]),jnp.reshape(jnp.array(actions_data[2]),(20,)),jnp.array(states_data[2][1:])\n",
    "for i in range(10):\n",
    "#     traj_index = int(i/4)%2\n",
    "#     batch_id = i%4\n",
    "#     data_start,data_end  = (batch_id * 5), ((batch_id+1) *5 )\n",
    "#     next_data_start,next_data_end  = data_start+1, data_end+1\n",
    "#     states = jnp.array(states_data[traj_index][data_start:data_end])\n",
    "#     actions =  jnp.reshape(jnp.array(actions_data[traj_index][data_start:data_end]),(batch_size,))\n",
    "#     next_states = jnp.array(states_data[traj_index][next_data_start:next_data_end])\n",
    "    traj_index = i%3\n",
    "    states = jnp.array(states_data[traj_index][0:-1])\n",
    "    actions =  jnp.reshape(jnp.array(actions_data[traj_index]),(states.shape[0],))\n",
    "    next_states = jnp.array(states_data[traj_index][1:])\n",
    "    \n",
    "    grad = grad_loss(params,states,actions,next_states)\n",
    "#     grad = grad_loss_traj(params,states,actions,next_states)\n",
    "    loss = loss_fn(params,test_s,test_a,test_sdot)\n",
    "#     loss = loss_fn_traj(params,test_s,test_a,test_sdot)\n",
    "    params -= 0.1 * grad\n",
    "    loss_list.append(loss)"
   ]
  },
  {
   "cell_type": "code",
   "execution_count": 9,
   "id": "quick-broadcast",
   "metadata": {},
   "outputs": [
    {
     "data": {
      "image/png": "[encoded data removed]",
      "text/plain": [
       "<Figure size 432x288 with 1 Axes>"
      ]
     },
     "metadata": {
      "needs_background": "light"
     },
     "output_type": "display_data"
    }
   ],
   "source": [
    "import matplotlib.pyplot as plt\n",
    "plt.plot(loss_list)\n",
    "plt.show()"
   ]
  },
  {
   "cell_type": "code",
   "execution_count": 17,
   "id": "nearby-gnome",
   "metadata": {},
   "outputs": [
    {
     "data": {
      "text/plain": [
       "[DeviceArray(0.02523875, dtype=float32),\n",
       " DeviceArray(0.02522095, dtype=float32),\n",
       " DeviceArray(0.02517007, dtype=float32),\n",
       " DeviceArray(0.02511922, dtype=float32),\n",
       " DeviceArray(0.02510133, dtype=float32),\n",
       " DeviceArray(0.02505033, dtype=float32),\n",
       " DeviceArray(0.02499935, dtype=float32),\n",
       " DeviceArray(0.02498138, dtype=float32),\n",
       " DeviceArray(0.02493025, dtype=float32),\n",
       " DeviceArray(0.02487914, dtype=float32)]"
      ]
     },
     "execution_count": 17,
     "metadata": {},
     "output_type": "execute_result"
    }
   ],
   "source": [
    "loss_list[0:]"
   ]
  },
  {
   "cell_type": "code",
   "execution_count": 26,
   "id": "ready-norway",
   "metadata": {},
   "outputs": [
    {
     "data": {
      "text/plain": [
       "DeviceArray([-0.23847377, -0.33954245,  1.6021191 ], dtype=float32)"
      ]
     },
     "execution_count": 26,
     "metadata": {},
     "output_type": "execute_result"
    }
   ],
   "source": [
    "grad_loss_traj(jnp.array([1.0,1.0,1.0]),test_s,test_a,test_sdot)"
   ]
  },
  {
   "cell_type": "code",
   "execution_count": 22,
   "id": "available-damage",
   "metadata": {},
   "outputs": [
    {
     "data": {
      "text/plain": [
       "DeviceArray(0.4126432, dtype=float32)"
      ]
     },
     "execution_count": 22,
     "metadata": {},
     "output_type": "execute_result"
    }
   ],
   "source": [
    "loss_fn_traj(jnp.array([1.0,2.0,1.0]),test_s,test_a,test_sdot)"
   ]
  },
  {
   "cell_type": "code",
   "execution_count": 360,
   "id": "dimensional-catering",
   "metadata": {},
   "outputs": [],
   "source": [
    "from gym.envs.classic_control import rendering"
   ]
  },
  {
   "cell_type": "code",
   "execution_count": 378,
   "id": "labeled-sharp",
   "metadata": {},
   "outputs": [],
   "source": [
    "class cartpole():\n",
    "    def __init__(self):\n",
    "        self.viewer = None\n",
    "        return\n",
    "    def render(self,params,state):\n",
    "        masscart,masspole,length = params\n",
    "        total_mass = masspole + masscart\n",
    "        polemass_length = masspole * length\n",
    "\n",
    "        x, x_dot, theta, theta_dot = state\n",
    "\n",
    "        screen_width = 600\n",
    "        screen_height = 400\n",
    "\n",
    "        world_width = 2.4 * 2\n",
    "        scale = screen_width / world_width\n",
    "        carty = 100  # TOP OF CART\n",
    "        polewidth = 10.0\n",
    "        polelen = scale * (2 * polemass_length)\n",
    "        cartwidth = 50.0\n",
    "        cartheight = 30.0\n",
    "\n",
    "        if self.viewer is None:\n",
    "            from gym.envs.classic_control import rendering\n",
    "\n",
    "            self.viewer = rendering.Viewer(screen_width, screen_height)\n",
    "            l, r, t, b = -cartwidth / 2, cartwidth / 2, cartheight / 2, -cartheight / 2\n",
    "            axleoffset = cartheight / 4.0\n",
    "            cart = rendering.FilledPolygon([(l, b), (l, t), (r, t), (r, b)])\n",
    "            self.carttrans = rendering.Transform()\n",
    "            cart.add_attr(self.carttrans)\n",
    "            self.viewer.add_geom(cart)\n",
    "            l, r, t, b = -polewidth / 2, polewidth / 2, polelen - polewidth / 2, -polewidth / 2\n",
    "            pole = rendering.FilledPolygon([(l, b), (l, t), (r, t), (r, b)])\n",
    "            pole.set_color(0.8, 0.6, 0.4)\n",
    "            self.poletrans = rendering.Transform(translation=(0, axleoffset))\n",
    "            pole.add_attr(self.poletrans)\n",
    "            pole.add_attr(self.carttrans)\n",
    "            self.viewer.add_geom(pole)\n",
    "            self.axle = rendering.make_circle(polewidth / 2)\n",
    "            self.axle.add_attr(self.poletrans)\n",
    "            self.axle.add_attr(self.carttrans)\n",
    "            self.axle.set_color(0.5, 0.5, 0.8)\n",
    "            self.viewer.add_geom(self.axle)\n",
    "            self.track = rendering.Line((0, carty), (screen_width, carty))\n",
    "            self.track.set_color(0, 0, 0)\n",
    "            self.viewer.add_geom(self.track)\n",
    "\n",
    "            self._pole_geom = pole\n",
    "\n",
    "        if state is None:\n",
    "            return None\n",
    "\n",
    "        # Edit the pole polygon vertex\n",
    "        pole = self._pole_geom\n",
    "        l, r, t, b = -polewidth / 2, polewidth / 2, polelen - polewidth / 2, -polewidth / 2\n",
    "        pole.v = [(l, b), (l, t), (r, t), (r, b)]\n",
    "\n",
    "        x = state\n",
    "        cartx = x[0] * scale + screen_width / 2.0  # MIDDLE OF CART\n",
    "        self.carttrans.set_translation(cartx, carty)\n",
    "        self.poletrans.set_rotation(-x[2])\n",
    "\n",
    "        return self.viewer.render(return_rgb_array=\"human\" == \"rgb_array\")"
   ]
  },
  {
   "cell_type": "code",
   "execution_count": 379,
   "id": "western-shannon",
   "metadata": {},
   "outputs": [],
   "source": [
    "x = cartpole() "
   ]
  },
  {
   "cell_type": "code",
   "execution_count": 391,
   "id": "dynamic-proxy",
   "metadata": {},
   "outputs": [
    {
     "data": {
      "text/plain": [
       "False"
      ]
     },
     "execution_count": 391,
     "metadata": {},
     "output_type": "execute_result"
    }
   ],
   "source": [
    "x.render(params,states_data[0][0])"
   ]
  },
  {
   "cell_type": "code",
   "execution_count": 389,
   "id": "desirable-wright",
   "metadata": {},
   "outputs": [],
   "source": [
    "x.viewer=None"
   ]
  },
  {
   "cell_type": "code",
   "execution_count": 198,
   "id": "functioning-platform",
   "metadata": {},
   "outputs": [
    {
     "data": {
      "text/plain": [
       "DeviceArray([0.09933709, 0.09958012, 0.10012527], dtype=float32)"
      ]
     },
     "execution_count": 198,
     "metadata": {},
     "output_type": "execute_result"
    }
   ],
   "source": []
  },
  {
   "cell_type": "code",
   "execution_count": 159,
   "id": "funded-degree",
   "metadata": {},
   "outputs": [
    {
     "data": {
      "text/plain": [
       "DeviceArray([-0.17696618, -0.01834414,  0.4934444 ,  1.0533656 ], dtype=float32)"
      ]
     },
     "execution_count": 159,
     "metadata": {},
     "output_type": "execute_result"
    }
   ],
   "source": []
  },
  {
   "cell_type": "code",
   "execution_count": 143,
   "id": "going-accuracy",
   "metadata": {},
   "outputs": [
    {
     "data": {
      "text/plain": [
       "DeviceArray([[0.],\n",
       "             [0.],\n",
       "             [0.],\n",
       "             [0.],\n",
       "             [0.]], dtype=float32)"
      ]
     },
     "execution_count": 143,
     "metadata": {},
     "output_type": "execute_result"
    }
   ],
   "source": []
  }
 ],
 "metadata": {
  "kernelspec": {
   "display_name": "Python 3",
   "language": "python",
   "name": "python3"
  },
  "language_info": {
   "codemirror_mode": {
    "name": "ipython",
    "version": 3
   },
   "file_extension": ".py",
   "mimetype": "text/x-python",
   "name": "python",
   "nbconvert_exporter": "python",
   "pygments_lexer": "ipython3",
   "version": "3.6.9"
  }
 },
 "nbformat": 4,
 "nbformat_minor": 5
}
